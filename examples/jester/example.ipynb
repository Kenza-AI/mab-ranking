{
 "cells": [
  {
   "cell_type": "markdown",
   "metadata": {},
   "source": [
    "## Apply Rank Bandit on the Jester Jokes Dataset\n",
    "The goal is to maximize the number of clicks on any of the top 10 recommended jokes using `IndependentBandits`"
   ]
  },
  {
   "cell_type": "code",
   "execution_count": 1,
   "metadata": {},
   "outputs": [],
   "source": [
    "url = 'https://jester-jokes-data.s3.amazonaws.com/jesterfinal151cols.csv'"
   ]
  },
  {
   "cell_type": "code",
   "execution_count": 2,
   "metadata": {},
   "outputs": [],
   "source": [
    "import codecs\n",
    "import csv\n",
    "from urllib.request import urlopen\n",
    "\n",
    "import numpy as np\n",
    "\n",
    "\n",
    "def get_jester_data(url):\n",
    "    data = []\n",
    "    file_stream = urlopen(url)\n",
    "    csv_reader = csv.reader(codecs.iterdecode(file_stream, 'utf-8'), delimiter=',')\n",
    "    for row in csv_reader:\n",
    "        data_row = []\n",
    "        for _item in row[1:]:\n",
    "            if _item in {'99', ''} or float(_item) < 7.0:  # Rates above or equal to 7 are considered positive i.e. 1. Oterhwise 0.0.\n",
    "                data_row.append(0.0)\n",
    "            else:\n",
    "                data_row.append(1.0)\n",
    "        data.append(data_row)\n",
    "\n",
    "    return np.asarray(data)"
   ]
  },
  {
   "cell_type": "code",
   "execution_count": 3,
   "metadata": {},
   "outputs": [],
   "source": [
    "jester_data = get_jester_data(url)\n",
    "\n",
    "filtered_data = []\n",
    "for _row in jester_data:\n",
    "    if sum(_row) > 1:  # Keep only the rows where a user has rated at least one 1 joke\n",
    "        filtered_data.append(_row.tolist())\n",
    "\n",
    "data = np.asarray(filtered_data)"
   ]
  },
  {
   "cell_type": "code",
   "execution_count": 4,
   "metadata": {},
   "outputs": [
    {
     "name": "stderr",
     "output_type": "stream",
     "text": [
      "100%|██████████| 7000/7000 [00:25<00:00, 273.41it/s]\n"
     ]
    }
   ],
   "source": [
    "import random\n",
    "from tqdm import tqdm\n",
    "\n",
    "from mab_ranking.bandits.rank_bandits import IndependentBandits\n",
    "from mab_ranking.bandits.bandits import BetaThompsonSampling\n",
    "\n",
    "\n",
    "independent_bandits = IndependentBandits(\n",
    "        num_arms=data.shape[1],\n",
    "        num_ranks=10,  # Recommend the best 10 jokes\n",
    "        bandit_class=BetaThompsonSampling\n",
    "    )\n",
    "\n",
    "num_steps = 7000\n",
    "sum_binary = 0.0\n",
    "ctr_list = []\n",
    "\n",
    "for i in tqdm(range(1, num_steps + 1)):\n",
    "    # Pick a user randomly\n",
    "    random_user_idx = random.randint(0, data.shape[0] - 1)\n",
    "\n",
    "    selected_items = independent_bandits.choose()\n",
    "    ground_truth = np.argwhere(data[random_user_idx] == 1).flatten().tolist()\n",
    "\n",
    "    hit_rate = len(set(ground_truth).intersection(set(selected_items))) / len(set(ground_truth))\n",
    "\n",
    "    feedback_list = [1.0 if _item in ground_truth else 0.0 for _item in selected_items]\n",
    "    independent_bandits.update(selected_items, feedback_list)\n",
    "\n",
    "    binary_relevancy = 1.0 if hit_rate > 0 else 0.0\n",
    "    sum_binary += binary_relevancy\n",
    "    ctr_list.append(sum_binary / i)"
   ]
  },
  {
   "cell_type": "code",
   "execution_count": 5,
   "metadata": {},
   "outputs": [],
   "source": [
    "import matplotlib.pyplot as plt\n",
    "\n",
    "\n",
    "def plot_ctr(num_iterations, ctr):\n",
    "    plt.plot(range(1,num_iterations+1), ctr)\n",
    "    plt.xlabel('num_iterations', fontsize=14)\n",
    "    plt.ylabel('ctr', fontsize=14)"
   ]
  },
  {
   "cell_type": "code",
   "execution_count": 6,
   "metadata": {},
   "outputs": [
    {
     "data": {
      "image/png": "[encoded data removed]",
      "text/plain": [
       "<Figure size 432x288 with 1 Axes>"
      ]
     },
     "metadata": {
      "needs_background": "light"
     },
     "output_type": "display_data"
    }
   ],
   "source": [
    "plot_ctr(len(ctr_list), ctr_list)"
   ]
  },
  {
   "cell_type": "code",
   "execution_count": null,
   "metadata": {},
   "outputs": [],
   "source": []
  }
 ],
 "metadata": {
  "kernelspec": {
   "display_name": "Python 3",
   "language": "python",
   "name": "python3"
  },
  "language_info": {
   "codemirror_mode": {
    "name": "ipython",
    "version": 3
   },
   "file_extension": ".py",
   "mimetype": "text/x-python",
   "name": "python",
   "nbconvert_exporter": "python",
   "pygments_lexer": "ipython3",
   "version": "3.7.6"
  }
 },
 "nbformat": 4,
 "nbformat_minor": 4
}
